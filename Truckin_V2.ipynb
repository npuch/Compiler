{
  "nbformat": 4,
  "nbformat_minor": 0,
  "metadata": {
    "colab": {
      "name": "Truckin V2",
      "provenance": [],
      "mount_file_id": "1_87tV1XSDPX6WmIcvRNktyduecHx-4pk",
      "authorship_tag": "ABX9TyPOSLwikhEZYuIQwo/npSDM",
      "include_colab_link": true
    },
    "kernelspec": {
      "name": "python3",
      "display_name": "Python 3"
    },
    "language_info": {
      "name": "python"
    },
    "widgets": {
      "application/vnd.jupyter.widget-state+json": {
        "15ce38a7899c4588b25fcfb16c9f99e5": {
          "model_module": "@jupyter-widgets/controls",
          "model_name": "HBoxModel",
          "model_module_version": "1.5.0",
          "state": {
            "_view_name": "HBoxView",
            "_dom_classes": [],
            "_model_name": "HBoxModel",
            "_view_module": "@jupyter-widgets/controls",
            "_model_module_version": "1.5.0",
            "_view_count": null,
            "_view_module_version": "1.5.0",
            "box_style": "",
            "layout": "IPY_MODEL_98ddfbbb0b6d4367b264035bf07f108f",
            "_model_module": "@jupyter-widgets/controls",
            "children": [
              "IPY_MODEL_7f977277ca4f4fd9a68efeb1e440ef94",
              "IPY_MODEL_1f0c23e50fe546bca17096a8685b0722",
              "IPY_MODEL_f4b5822ca675418a9531da9c062a4a1d"
            ]
          }
        },
        "98ddfbbb0b6d4367b264035bf07f108f": {
          "model_module": "@jupyter-widgets/base",
          "model_name": "LayoutModel",
          "model_module_version": "1.2.0",
          "state": {
            "_view_name": "LayoutView",
            "grid_template_rows": null,
            "right": null,
            "justify_content": null,
            "_view_module": "@jupyter-widgets/base",
            "overflow": null,
            "_model_module_version": "1.2.0",
            "_view_count": null,
            "flex_flow": null,
            "width": null,
            "min_width": null,
            "border": null,
            "align_items": null,
            "bottom": null,
            "_model_module": "@jupyter-widgets/base",
            "top": null,
            "grid_column": null,
            "overflow_y": null,
            "overflow_x": null,
            "grid_auto_flow": null,
            "grid_area": null,
            "grid_template_columns": null,
            "flex": null,
            "_model_name": "LayoutModel",
            "justify_items": null,
            "grid_row": null,
            "max_height": null,
            "align_content": null,
            "visibility": null,
            "align_self": null,
            "height": null,
            "min_height": null,
            "padding": null,
            "grid_auto_rows": null,
            "grid_gap": null,
            "max_width": null,
            "order": null,
            "_view_module_version": "1.2.0",
            "grid_template_areas": null,
            "object_position": null,
            "object_fit": null,
            "grid_auto_columns": null,
            "margin": null,
            "display": null,
            "left": null
          }
        },
        "7f977277ca4f4fd9a68efeb1e440ef94": {
          "model_module": "@jupyter-widgets/controls",
          "model_name": "HTMLModel",
          "model_module_version": "1.5.0",
          "state": {
            "_view_name": "HTMLView",
            "style": "IPY_MODEL_f3647486c06c463a916c4533b1f93fd6",
            "_dom_classes": [],
            "description": "",
            "_model_name": "HTMLModel",
            "placeholder": "​",
            "_view_module": "@jupyter-widgets/controls",
            "_model_module_version": "1.5.0",
            "value": "",
            "_view_count": null,
            "_view_module_version": "1.5.0",
            "description_tooltip": null,
            "_model_module": "@jupyter-widgets/controls",
            "layout": "IPY_MODEL_59f3b17aae574832a5049bcc6aff1ee3"
          }
        },
        "1f0c23e50fe546bca17096a8685b0722": {
          "model_module": "@jupyter-widgets/controls",
          "model_name": "FloatProgressModel",
          "model_module_version": "1.5.0",
          "state": {
            "_view_name": "ProgressView",
            "style": "IPY_MODEL_fe0b3f0d13dd49b0afcbfdd513d26961",
            "_dom_classes": [],
            "description": "",
            "_model_name": "FloatProgressModel",
            "bar_style": "success",
            "max": 170498071,
            "_view_module": "@jupyter-widgets/controls",
            "_model_module_version": "1.5.0",
            "value": 170498071,
            "_view_count": null,
            "_view_module_version": "1.5.0",
            "orientation": "horizontal",
            "min": 0,
            "description_tooltip": null,
            "_model_module": "@jupyter-widgets/controls",
            "layout": "IPY_MODEL_ce79d32e79be4df8997f1ef83f995d38"
          }
        },
        "f4b5822ca675418a9531da9c062a4a1d": {
          "model_module": "@jupyter-widgets/controls",
          "model_name": "HTMLModel",
          "model_module_version": "1.5.0",
          "state": {
            "_view_name": "HTMLView",
            "style": "IPY_MODEL_f7d610a959a1432ca7d428f792f72b88",
            "_dom_classes": [],
            "description": "",
            "_model_name": "HTMLModel",
            "placeholder": "​",
            "_view_module": "@jupyter-widgets/controls",
            "_model_module_version": "1.5.0",
            "value": " 170499072/? [00:04&lt;00:00, 64274355.21it/s]",
            "_view_count": null,
            "_view_module_version": "1.5.0",
            "description_tooltip": null,
            "_model_module": "@jupyter-widgets/controls",
            "layout": "IPY_MODEL_1a29be66b0db4514a07cee6e732bd1a8"
          }
        },
        "f3647486c06c463a916c4533b1f93fd6": {
          "model_module": "@jupyter-widgets/controls",
          "model_name": "DescriptionStyleModel",
          "model_module_version": "1.5.0",
          "state": {
            "_view_name": "StyleView",
            "_model_name": "DescriptionStyleModel",
            "description_width": "",
            "_view_module": "@jupyter-widgets/base",
            "_model_module_version": "1.5.0",
            "_view_count": null,
            "_view_module_version": "1.2.0",
            "_model_module": "@jupyter-widgets/controls"
          }
        },
        "59f3b17aae574832a5049bcc6aff1ee3": {
          "model_module": "@jupyter-widgets/base",
          "model_name": "LayoutModel",
          "model_module_version": "1.2.0",
          "state": {
            "_view_name": "LayoutView",
            "grid_template_rows": null,
            "right": null,
            "justify_content": null,
            "_view_module": "@jupyter-widgets/base",
            "overflow": null,
            "_model_module_version": "1.2.0",
            "_view_count": null,
            "flex_flow": null,
            "width": null,
            "min_width": null,
            "border": null,
            "align_items": null,
            "bottom": null,
            "_model_module": "@jupyter-widgets/base",
            "top": null,
            "grid_column": null,
            "overflow_y": null,
            "overflow_x": null,
            "grid_auto_flow": null,
            "grid_area": null,
            "grid_template_columns": null,
            "flex": null,
            "_model_name": "LayoutModel",
            "justify_items": null,
            "grid_row": null,
            "max_height": null,
            "align_content": null,
            "visibility": null,
            "align_self": null,
            "height": null,
            "min_height": null,
            "padding": null,
            "grid_auto_rows": null,
            "grid_gap": null,
            "max_width": null,
            "order": null,
            "_view_module_version": "1.2.0",
            "grid_template_areas": null,
            "object_position": null,
            "object_fit": null,
            "grid_auto_columns": null,
            "margin": null,
            "display": null,
            "left": null
          }
        },
        "fe0b3f0d13dd49b0afcbfdd513d26961": {
          "model_module": "@jupyter-widgets/controls",
          "model_name": "ProgressStyleModel",
          "model_module_version": "1.5.0",
          "state": {
            "_view_name": "StyleView",
            "_model_name": "ProgressStyleModel",
            "description_width": "",
            "_view_module": "@jupyter-widgets/base",
            "_model_module_version": "1.5.0",
            "_view_count": null,
            "_view_module_version": "1.2.0",
            "bar_color": null,
            "_model_module": "@jupyter-widgets/controls"
          }
        },
        "ce79d32e79be4df8997f1ef83f995d38": {
          "model_module": "@jupyter-widgets/base",
          "model_name": "LayoutModel",
          "model_module_version": "1.2.0",
          "state": {
            "_view_name": "LayoutView",
            "grid_template_rows": null,
            "right": null,
            "justify_content": null,
            "_view_module": "@jupyter-widgets/base",
            "overflow": null,
            "_model_module_version": "1.2.0",
            "_view_count": null,
            "flex_flow": null,
            "width": null,
            "min_width": null,
            "border": null,
            "align_items": null,
            "bottom": null,
            "_model_module": "@jupyter-widgets/base",
            "top": null,
            "grid_column": null,
            "overflow_y": null,
            "overflow_x": null,
            "grid_auto_flow": null,
            "grid_area": null,
            "grid_template_columns": null,
            "flex": null,
            "_model_name": "LayoutModel",
            "justify_items": null,
            "grid_row": null,
            "max_height": null,
            "align_content": null,
            "visibility": null,
            "align_self": null,
            "height": null,
            "min_height": null,
            "padding": null,
            "grid_auto_rows": null,
            "grid_gap": null,
            "max_width": null,
            "order": null,
            "_view_module_version": "1.2.0",
            "grid_template_areas": null,
            "object_position": null,
            "object_fit": null,
            "grid_auto_columns": null,
            "margin": null,
            "display": null,
            "left": null
          }
        },
        "f7d610a959a1432ca7d428f792f72b88": {
          "model_module": "@jupyter-widgets/controls",
          "model_name": "DescriptionStyleModel",
          "model_module_version": "1.5.0",
          "state": {
            "_view_name": "StyleView",
            "_model_name": "DescriptionStyleModel",
            "description_width": "",
            "_view_module": "@jupyter-widgets/base",
            "_model_module_version": "1.5.0",
            "_view_count": null,
            "_view_module_version": "1.2.0",
            "_model_module": "@jupyter-widgets/controls"
          }
        },
        "1a29be66b0db4514a07cee6e732bd1a8": {
          "model_module": "@jupyter-widgets/base",
          "model_name": "LayoutModel",
          "model_module_version": "1.2.0",
          "state": {
            "_view_name": "LayoutView",
            "grid_template_rows": null,
            "right": null,
            "justify_content": null,
            "_view_module": "@jupyter-widgets/base",
            "overflow": null,
            "_model_module_version": "1.2.0",
            "_view_count": null,
            "flex_flow": null,
            "width": null,
            "min_width": null,
            "border": null,
            "align_items": null,
            "bottom": null,
            "_model_module": "@jupyter-widgets/base",
            "top": null,
            "grid_column": null,
            "overflow_y": null,
            "overflow_x": null,
            "grid_auto_flow": null,
            "grid_area": null,
            "grid_template_columns": null,
            "flex": null,
            "_model_name": "LayoutModel",
            "justify_items": null,
            "grid_row": null,
            "max_height": null,
            "align_content": null,
            "visibility": null,
            "align_self": null,
            "height": null,
            "min_height": null,
            "padding": null,
            "grid_auto_rows": null,
            "grid_gap": null,
            "max_width": null,
            "order": null,
            "_view_module_version": "1.2.0",
            "grid_template_areas": null,
            "object_position": null,
            "object_fit": null,
            "grid_auto_columns": null,
            "margin": null,
            "display": null,
            "left": null
          }
        }
      }
    }
  },
  "cells": [
    {
      "cell_type": "markdown",
      "metadata": {
        "id": "view-in-github",
        "colab_type": "text"
      },
      "source": [
        "<a href=\"https://colab.research.google.com/github/npuch/Compiler/blob/master/Truckin_V2.ipynb\" target=\"_parent\"><img src=\"https://colab.research.google.com/assets/colab-badge.svg\" alt=\"Open In Colab\"/></a>"
      ]
    },
    {
      "cell_type": "markdown",
      "metadata": {
        "id": "iv7Xjd1fG_oS"
      },
      "source": [
        "**Nathan Puch ECE 570 **"
      ]
    },
    {
      "cell_type": "code",
      "metadata": {
        "colab": {
          "base_uri": "https://localhost:8080/"
        },
        "id": "P0g70ZWzYJb1",
        "outputId": "4943e6ce-9c02-4ebf-8947-e180d33f85d7"
      },
      "source": [
        "from google.colab import drive\n",
        "drive.mount('/content/drive')"
      ],
      "execution_count": null,
      "outputs": [
        {
          "output_type": "stream",
          "name": "stdout",
          "text": [
            "Mounted at /content/drive\n"
          ]
        }
      ]
    },
    {
      "cell_type": "markdown",
      "metadata": {
        "id": "p-Vyfx25HZgL"
      },
      "source": [
        "Import from colab data set that is smaller and easier to download and test with.  Tonight I will attempt to create an MVP for object identification for long distance trucking convoy being the goal in mind to solve supply chain issues."
      ]
    },
    {
      "cell_type": "markdown",
      "metadata": {
        "id": "wbf2plaOIUVS"
      },
      "source": [
        "**Step 1**: Find, download, and import a dataset from Kaggle about driving sensor data to classify object with some type of network."
      ]
    },
    {
      "cell_type": "code",
      "metadata": {
        "colab": {
          "base_uri": "https://localhost:8080/"
        },
        "id": "36uApGFiImuS",
        "outputId": "bdd008b5-313b-4b89-c86e-c84e9b4be6bb"
      },
      "source": [
        "print(\"Begining to load data set from sourced from Kaggle\")\n",
        "\n",
        "import os"
      ],
      "execution_count": null,
      "outputs": [
        {
          "output_type": "stream",
          "name": "stdout",
          "text": [
            "Begining to load data set from sourced from Kaggle\n"
          ]
        }
      ]
    },
    {
      "cell_type": "markdown",
      "metadata": {
        "id": "PFQyiKHzY-Yy"
      },
      "source": [
        "**Step 1.2**: Significant work was done to download a medium size data size relativly to other senor data sets.  This was done on a Purdue Mac computer for linux like commands in terminal and speed and bandwidth of Purdues network for so downloading would be faster, training time, and easier debuging of Kaggle vs Google Cloud, and pytorch vs tensorflow familiartiy,and improved class example help.  This medium size data set is 33 gb compressed file time est to download 30 min, time to unzip 10 min.  First was downloading using -\n",
        "\n",
        "\n",
        "Kaggle -> Mac Download Software -> unzip in terminal -> google drive upload ->mount drive to colab through colab file system\n",
        "\n",
        "-but wish I knew a better way"
      ]
    },
    {
      "cell_type": "markdown",
      "metadata": {
        "id": "-bsa-Uwbggtt"
      },
      "source": [
        "Step 1.3: "
      ]
    },
    {
      "cell_type": "code",
      "metadata": {
        "colab": {
          "base_uri": "https://localhost:8080/"
        },
        "id": "LVr7X4zQftPR",
        "outputId": "030fcaed-1179-485d-d64d-e69968f3d97c"
      },
      "source": [
        "#Mount drive\n",
        "from google.colab import drive\n",
        "drive.mount('/content/drive')"
      ],
      "execution_count": null,
      "outputs": [
        {
          "output_type": "stream",
          "name": "stdout",
          "text": [
            "Drive already mounted at /content/drive; to attempt to forcibly remount, call drive.mount(\"/content/drive\", force_remount=True).\n"
          ]
        }
      ]
    },
    {
      "cell_type": "markdown",
      "metadata": {
        "id": "qQztKZ0stAcO"
      },
      "source": [
        "Step 2. Data prep in python\n",
        "\n",
        "Research\n",
        "1.   Over arching question - Improving object detection accuacy and speed for self driving vehicals or Tesla semi convoys from advanced lidar and camera data \n",
        " \n",
        "*   Lidar Classifies shapes very efficently\n",
        "*   8 image cameras give full image coverage and gain the ability to read signs\n",
        "\n",
        "2. higer resolution info is need in some spots called clouds in lidar data\n",
        "\n",
        "Research and Sumarize state of the Art Ai for Object Detection\n",
        "*   by having a small number of large convolutions we can eliminate sparse data by designing the many small in size of pixcales.  The beaty of deep learning is we let the computer try all paramters so to find a stategy that if a scientist break down the problem so a small amount of reward is given for small positve task completed such as identfy an edges the next more complex layer may put edges together to form features such as a nose and finally the largest layer identfying a human face recognizing eyes nose ears- Large reward recived on log scale.  Then the network can react to that new large stimulas often was almost found on accidendent in reagards to method or stratgey of the model the network creates by having activations perfom similar to the way human's nurons in there brian\n",
        "\n",
        "\n",
        "\n",
        "*   Ai and Deep Learning is new and lots of unkowns on how to use it effectivly and how to implement with present tech.  \n",
        "*   Next step will be to code a the most simple data set on 1GB test 1GB train data split for a base line model.\n",
        "\n",
        "\n",
        "\n",
        "\n",
        "\n",
        "\n",
        "\n",
        "\n",
        "\n",
        "\n",
        "\n",
        "\n",
        " \n",
        "\n",
        "\n",
        "\n"
      ]
    },
    {
      "cell_type": "code",
      "metadata": {
        "id": "emEC8h8rPciT",
        "colab": {
          "base_uri": "https://localhost:8080/",
          "height": 238,
          "referenced_widgets": [
            "15ce38a7899c4588b25fcfb16c9f99e5",
            "98ddfbbb0b6d4367b264035bf07f108f",
            "7f977277ca4f4fd9a68efeb1e440ef94",
            "1f0c23e50fe546bca17096a8685b0722",
            "f4b5822ca675418a9531da9c062a4a1d",
            "f3647486c06c463a916c4533b1f93fd6",
            "59f3b17aae574832a5049bcc6aff1ee3",
            "fe0b3f0d13dd49b0afcbfdd513d26961",
            "ce79d32e79be4df8997f1ef83f995d38",
            "f7d610a959a1432ca7d428f792f72b88",
            "1a29be66b0db4514a07cee6e732bd1a8"
          ]
        },
        "outputId": "830ebafe-768d-4d93-a665-578cd9478f96"
      },
      "source": [
        "#Import staple libaries for basic CNN classification, large datata set manipulation, linear alg, and data source of CIFAR-10 dataset for simple image classification.\n",
        "#Size of CIFAR-10: 163 MB or 1.63e+8 bytes\n",
        "#History: Publication Date August, 2010 with success rate of 78.9% of object identification in Convolutional Deep Belief Networks on CIFAR-10\n",
        "#Significance: First time multiple classes out preformed guessing prob in a 10%,\n",
        "#               perecent guess rate to show a model with is 78.9% acurrate is satatistially segnificant for images for the first time\n",
        "#               It is important to note how well a low res data set and simple cnn can produce desired results for some use cases.\n",
        "\n",
        "\n",
        "#Load and sumarize CIFAR 10\n",
        "import pandas as pd\n",
        "import numpy as np\n",
        "import torch\n",
        "import torchvision\n",
        "import torchvision.transforms as transforms\n",
        "\n",
        "transform = transforms.Compose(\n",
        "    [transforms.ToTensor(),\n",
        "     transforms.Normalize((0.5, 0.5, 0.5), (0.5, 0.5, 0.5))])\n",
        "\n",
        "batch_size = 4\n",
        "\n",
        "trainset = torchvision.datasets.CIFAR10(root='./data', train=True,\n",
        "                                        download=True, transform=transform)\n",
        "trainloader = torch.utils.data.DataLoader(trainset, batch_size=batch_size,\n",
        "                                          shuffle=True, num_workers=2)\n",
        "\n",
        "testset = torchvision.datasets.CIFAR10(root='./data', train=False,\n",
        "                                       download=True, transform=transform)\n",
        "testloader = torch.utils.data.DataLoader(testset, batch_size=batch_size,\n",
        "                                         shuffle=False, num_workers=2)\n",
        "\n",
        "classes = ('plane', 'car', 'bird', 'cat',\n",
        "           'deer', 'dog', 'frog', 'horse', 'ship', 'truck')\n",
        "\n",
        "\n",
        "#Visualize\n",
        "import matplotlib.pyplot as plt\n",
        "import numpy as np\n",
        "\n",
        "def imshow(img):\n",
        "    img = img / 2 + 0.5     # unnormalize to look nice\n",
        "    npimg = img.numpy()\n",
        "    plt.imshow(np.transpose(npimg, (1, 2, 0)))\n",
        "    plt.show()\n",
        "\n",
        "\n",
        "# get some random training images\n",
        "dataiter = iter(trainloader)\n",
        "images, labels = dataiter.next()\n",
        "\n",
        "# show images\n",
        "imshow(torchvision.utils.make_grid(images))\n",
        "# print labels\n",
        "print(' '.join('%5s' % classes[labels[j]] for j in range(batch_size)))\n"
      ],
      "execution_count": null,
      "outputs": [
        {
          "output_type": "stream",
          "name": "stdout",
          "text": [
            "Downloading https://www.cs.toronto.edu/~kriz/cifar-10-python.tar.gz to ./data/cifar-10-python.tar.gz\n"
          ]
        },
        {
          "output_type": "display_data",
          "data": {
            "application/vnd.jupyter.widget-view+json": {
              "model_id": "15ce38a7899c4588b25fcfb16c9f99e5",
              "version_minor": 0,
              "version_major": 2
            },
            "text/plain": [
              "  0%|          | 0/170498071 [00:00<?, ?it/s]"
            ]
          },
          "metadata": {}
        },
        {
          "output_type": "stream",
          "name": "stdout",
          "text": [
            "Extracting ./data/cifar-10-python.tar.gz to ./data\n",
            "Files already downloaded and verified\n"
          ]
        },
        {
          "output_type": "display_data",
          "data": {
            "image/png": "[encoded data removed]",
            "text/plain": [
              "<Figure size 432x288 with 1 Axes>"
            ]
          },
          "metadata": {
            "needs_background": "light"
          }
        },
        {
          "output_type": "stream",
          "name": "stdout",
          "text": [
            "truck   car plane  frog\n"
          ]
        }
      ]
    },
    {
      "cell_type": "markdown",
      "metadata": {
        "id": "5_XfhDsG7PtF"
      },
      "source": [
        "Next evolutions follow pattern\n",
        "\n",
        "Larger more specialized networks + larger dataset collection + increased \n",
        "\n",
        "*   Larger more specialized networks + larger dataset collection + increased computing power = solution to new problem faced that is faced in tech\n",
        "\n",
        "*   Here we I would look and wait until there was significant increase in all three factors, to have new go out and search for a new ability or problem to solve.\n",
        "\n",
        "\n",
        "\n",
        "\n"
      ]
    },
    {
      "cell_type": "code",
      "metadata": {
        "id": "7D2ThMdK82Vt"
      },
      "source": [
        "#Big success rate increase from CNN to Deep Learning 79.8% -> 96%\n",
        "#Size of PandaDataSet: 17 GB or  bytes 2.125e+9\n",
        "#History: Publication Date August, 2010 with success rate of 78.9% of object identification in Convolutional Deep Belief Networks on CIFAR-10\n",
        "#Significance: First time multiple classes out preformed guessing prob in a 10%,\n",
        "#               perecent guess rate to show a model with is 78.9% acurrate is satatistially segnificant for images for the first time\n",
        "#               It is important to note how well a low res data set and simple cnn can produce desired results for some use cases.\n",
        "\n",
        "\n",
        "\n"
      ],
      "execution_count": null,
      "outputs": []
    },
    {
      "cell_type": "code",
      "metadata": {
        "id": "MV3RVNI8rPwt"
      },
      "source": [
        ""
      ],
      "execution_count": null,
      "outputs": []
    }
  ]
}